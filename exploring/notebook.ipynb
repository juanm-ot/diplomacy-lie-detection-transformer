{
  "cells": [
    {
      "cell_type": "code",
      "execution_count": null,
      "metadata": {
        "id": "7qDkPo7zTXI1"
      },
      "outputs": [],
      "source": [
        "import torch\n",
        "from transformers import DistilBertForSequenceClassification, AdamW, get_linear_schedule_with_warmup\n",
        "from torch.utils.data import DataLoader, TensorDataset\n",
        "from sklearn.metrics import accuracy_score, f1_score\n",
        "import matplotlib.pyplot as plt\n",
        "import numpy as np\n",
        "import json\n",
        "import pandas as pd\n",
        "\n",
        "from transformers import BertTokenizer\n",
        "from transformers import DistilBertTokenizer\n",
        "import torch\n",
        "\n"
      ]
    },
    {
      "cell_type": "markdown",
      "metadata": {
        "id": "LwhHCfJYT_a_"
      },
      "source": [
        "# Análisis y Exploración de Datos (EDA)"
      ]
    },
    {
      "cell_type": "markdown",
      "metadata": {
        "id": "cd7RIQ6LmYqk"
      },
      "source": [
        "## Carga de Datos y Preprocesamiento"
      ]
    },
    {
      "cell_type": "markdown",
      "metadata": {
        "id": "nI7iYP5lmfg_"
      },
      "source": [
        "### Cargar y Limpiar Datos"
      ]
    },
    {
      "cell_type": "markdown",
      "metadata": {
        "id": "ZGPJpHuIm8ED"
      },
      "source": [
        " **Pendiente** Descargar los archivos de github, dejarlos en una carpeta de staging y leerlos desde alli"
      ]
    },
    {
      "cell_type": "code",
      "execution_count": null,
      "metadata": {
        "colab": {
          "base_uri": "https://localhost:8080/",
          "height": 382
        },
        "id": "fSGs4M94T_my",
        "outputId": "0b5fb503-844f-4136-9606-a7636406d9c0"
      },
      "outputs": [
        {
          "data": {
            "application/vnd.google.colaboratory.intrinsic+json": {
              "summary": "{\n  \"name\": \"df_expanded_train\",\n  \"rows\": 13137,\n  \"fields\": [\n    {\n      \"column\": \"messages\",\n      \"properties\": {\n        \"dtype\": \"string\",\n        \"num_unique_values\": 12789,\n        \"samples\": [\n          \"Please push to piedmont.\",\n          \"Pic can't, since it's a fleet.\",\n          \"Well, they can't kill the fleet in Belgium and keep Norway at the same time, but then again, if the Germans do as I asked they wouldn't be able to do either even if they prioritized Norway. Germany may not have the upper hand but they still have a decent position.\"\n        ],\n        \"semantic_type\": \"\",\n        \"description\": \"\"\n      }\n    },\n    {\n      \"column\": \"sender_labels\",\n      \"properties\": {\n        \"dtype\": \"category\",\n        \"num_unique_values\": 2,\n        \"samples\": [\n          false,\n          true\n        ],\n        \"semantic_type\": \"\",\n        \"description\": \"\"\n      }\n    },\n    {\n      \"column\": \"receiver_labels\",\n      \"properties\": {\n        \"dtype\": \"category\",\n        \"num_unique_values\": 3,\n        \"samples\": [\n          true,\n          \"NOANNOTATION\"\n        ],\n        \"semantic_type\": \"\",\n        \"description\": \"\"\n      }\n    },\n    {\n      \"column\": \"speakers\",\n      \"properties\": {\n        \"dtype\": \"category\",\n        \"num_unique_values\": 7,\n        \"samples\": [\n          \"italy\",\n          \"germany\"\n        ],\n        \"semantic_type\": \"\",\n        \"description\": \"\"\n      }\n    },\n    {\n      \"column\": \"receivers\",\n      \"properties\": {\n        \"dtype\": \"category\",\n        \"num_unique_values\": 7,\n        \"samples\": [\n          \"germany\",\n          \"italy\"\n        ],\n        \"semantic_type\": \"\",\n        \"description\": \"\"\n      }\n    },\n    {\n      \"column\": \"absolute_message_index\",\n      \"properties\": {\n        \"dtype\": \"date\",\n        \"min\": 0,\n        \"max\": 3301,\n        \"num_unique_values\": 3302,\n        \"samples\": [\n          864,\n          1231\n        ],\n        \"semantic_type\": \"\",\n        \"description\": \"\"\n      }\n    },\n    {\n      \"column\": \"relative_message_index\",\n      \"properties\": {\n        \"dtype\": \"date\",\n        \"min\": 0,\n        \"max\": 674,\n        \"num_unique_values\": 675,\n        \"samples\": [\n          396,\n          302\n        ],\n        \"semantic_type\": \"\",\n        \"description\": \"\"\n      }\n    },\n    {\n      \"column\": \"seasons\",\n      \"properties\": {\n        \"dtype\": \"category\",\n        \"num_unique_values\": 3,\n        \"samples\": [\n          \"Spring\",\n          \"Fall\"\n        ],\n        \"semantic_type\": \"\",\n        \"description\": \"\"\n      }\n    },\n    {\n      \"column\": \"years\",\n      \"properties\": {\n        \"dtype\": \"date\",\n        \"min\": \"1901-01-01 00:00:00\",\n        \"max\": \"1910-01-01 00:00:00\",\n        \"num_unique_values\": 10,\n        \"samples\": [\n          \"1910\",\n          \"1902\"\n        ],\n        \"semantic_type\": \"\",\n        \"description\": \"\"\n      }\n    },\n    {\n      \"column\": \"game_score\",\n      \"properties\": {\n        \"dtype\": \"category\",\n        \"num_unique_values\": 17,\n        \"samples\": [\n          \"3\",\n          \"5\"\n        ],\n        \"semantic_type\": \"\",\n        \"description\": \"\"\n      }\n    },\n    {\n      \"column\": \"game_score_delta\",\n      \"properties\": {\n        \"dtype\": \"category\",\n        \"num_unique_values\": 29,\n        \"samples\": [\n          \"14\",\n          \"-5\"\n        ],\n        \"semantic_type\": \"\",\n        \"description\": \"\"\n      }\n    },\n    {\n      \"column\": \"players\",\n      \"properties\": {\n        \"dtype\": \"object\",\n        \"semantic_type\": \"\",\n        \"description\": \"\"\n      }\n    },\n    {\n      \"column\": \"game_id\",\n      \"properties\": {\n        \"dtype\": \"number\",\n        \"std\": 3,\n        \"min\": 1,\n        \"max\": 10,\n        \"num_unique_values\": 9,\n        \"samples\": [\n          9,\n          2\n        ],\n        \"semantic_type\": \"\",\n        \"description\": \"\"\n      }\n    }\n  ]\n}",
              "type": "dataframe",
              "variable_name": "df_expanded_train"
            },
            "text/html": [
              "\n",
              "  <div id=\"df-f73f5393-2368-4e90-989f-15d3bcd598c1\" class=\"colab-df-container\">\n",
              "    <div>\n",
              "<style scoped>\n",
              "    .dataframe tbody tr th:only-of-type {\n",
              "        vertical-align: middle;\n",
              "    }\n",
              "\n",
              "    .dataframe tbody tr th {\n",
              "        vertical-align: top;\n",
              "    }\n",
              "\n",
              "    .dataframe thead th {\n",
              "        text-align: right;\n",
              "    }\n",
              "</style>\n",
              "<table border=\"1\" class=\"dataframe\">\n",
              "  <thead>\n",
              "    <tr style=\"text-align: right;\">\n",
              "      <th></th>\n",
              "      <th>messages</th>\n",
              "      <th>sender_labels</th>\n",
              "      <th>receiver_labels</th>\n",
              "      <th>speakers</th>\n",
              "      <th>receivers</th>\n",
              "      <th>absolute_message_index</th>\n",
              "      <th>relative_message_index</th>\n",
              "      <th>seasons</th>\n",
              "      <th>years</th>\n",
              "      <th>game_score</th>\n",
              "      <th>game_score_delta</th>\n",
              "      <th>players</th>\n",
              "      <th>game_id</th>\n",
              "    </tr>\n",
              "  </thead>\n",
              "  <tbody>\n",
              "    <tr>\n",
              "      <th>0</th>\n",
              "      <td>Germany!\\n\\nJust the person I want to speak wi...</td>\n",
              "      <td>True</td>\n",
              "      <td>True</td>\n",
              "      <td>italy</td>\n",
              "      <td>germany</td>\n",
              "      <td>74</td>\n",
              "      <td>0</td>\n",
              "      <td>Spring</td>\n",
              "      <td>1901</td>\n",
              "      <td>3</td>\n",
              "      <td>0</td>\n",
              "      <td>[italy, germany]</td>\n",
              "      <td>1</td>\n",
              "    </tr>\n",
              "    <tr>\n",
              "      <th>0</th>\n",
              "      <td>You've whet my appetite, Italy. What's the sug...</td>\n",
              "      <td>True</td>\n",
              "      <td>True</td>\n",
              "      <td>germany</td>\n",
              "      <td>italy</td>\n",
              "      <td>76</td>\n",
              "      <td>1</td>\n",
              "      <td>Spring</td>\n",
              "      <td>1901</td>\n",
              "      <td>3</td>\n",
              "      <td>0</td>\n",
              "      <td>[italy, germany]</td>\n",
              "      <td>1</td>\n",
              "    </tr>\n",
              "    <tr>\n",
              "      <th>0</th>\n",
              "      <td>👍</td>\n",
              "      <td>True</td>\n",
              "      <td>True</td>\n",
              "      <td>italy</td>\n",
              "      <td>germany</td>\n",
              "      <td>86</td>\n",
              "      <td>2</td>\n",
              "      <td>Spring</td>\n",
              "      <td>1901</td>\n",
              "      <td>3</td>\n",
              "      <td>0</td>\n",
              "      <td>[italy, germany]</td>\n",
              "      <td>1</td>\n",
              "    </tr>\n",
              "    <tr>\n",
              "      <th>0</th>\n",
              "      <td>It seems like there are a lot of ways that cou...</td>\n",
              "      <td>True</td>\n",
              "      <td>True</td>\n",
              "      <td>germany</td>\n",
              "      <td>italy</td>\n",
              "      <td>87</td>\n",
              "      <td>3</td>\n",
              "      <td>Spring</td>\n",
              "      <td>1901</td>\n",
              "      <td>3</td>\n",
              "      <td>0</td>\n",
              "      <td>[italy, germany]</td>\n",
              "      <td>1</td>\n",
              "    </tr>\n",
              "    <tr>\n",
              "      <th>0</th>\n",
              "      <td>Yeah, I can’t say I’ve tried it and it works, ...</td>\n",
              "      <td>True</td>\n",
              "      <td>NOANNOTATION</td>\n",
              "      <td>italy</td>\n",
              "      <td>germany</td>\n",
              "      <td>89</td>\n",
              "      <td>4</td>\n",
              "      <td>Spring</td>\n",
              "      <td>1901</td>\n",
              "      <td>3</td>\n",
              "      <td>0</td>\n",
              "      <td>[italy, germany]</td>\n",
              "      <td>1</td>\n",
              "    </tr>\n",
              "  </tbody>\n",
              "</table>\n",
              "</div>\n",
              "    <div class=\"colab-df-buttons\">\n",
              "\n",
              "  <div class=\"colab-df-container\">\n",
              "    <button class=\"colab-df-convert\" onclick=\"convertToInteractive('df-f73f5393-2368-4e90-989f-15d3bcd598c1')\"\n",
              "            title=\"Convert this dataframe to an interactive table.\"\n",
              "            style=\"display:none;\">\n",
              "\n",
              "  <svg xmlns=\"http://www.w3.org/2000/svg\" height=\"24px\" viewBox=\"0 -960 960 960\">\n",
              "    <path d=\"M120-120v-720h720v720H120Zm60-500h600v-160H180v160Zm220 220h160v-160H400v160Zm0 220h160v-160H400v160ZM180-400h160v-160H180v160Zm440 0h160v-160H620v160ZM180-180h160v-160H180v160Zm440 0h160v-160H620v160Z\"/>\n",
              "  </svg>\n",
              "    </button>\n",
              "\n",
              "  <style>\n",
              "    .colab-df-container {\n",
              "      display:flex;\n",
              "      gap: 12px;\n",
              "    }\n",
              "\n",
              "    .colab-df-convert {\n",
              "      background-color: #E8F0FE;\n",
              "      border: none;\n",
              "      border-radius: 50%;\n",
              "      cursor: pointer;\n",
              "      display: none;\n",
              "      fill: #1967D2;\n",
              "      height: 32px;\n",
              "      padding: 0 0 0 0;\n",
              "      width: 32px;\n",
              "    }\n",
              "\n",
              "    .colab-df-convert:hover {\n",
              "      background-color: #E2EBFA;\n",
              "      box-shadow: 0px 1px 2px rgba(60, 64, 67, 0.3), 0px 1px 3px 1px rgba(60, 64, 67, 0.15);\n",
              "      fill: #174EA6;\n",
              "    }\n",
              "\n",
              "    .colab-df-buttons div {\n",
              "      margin-bottom: 4px;\n",
              "    }\n",
              "\n",
              "    [theme=dark] .colab-df-convert {\n",
              "      background-color: #3B4455;\n",
              "      fill: #D2E3FC;\n",
              "    }\n",
              "\n",
              "    [theme=dark] .colab-df-convert:hover {\n",
              "      background-color: #434B5C;\n",
              "      box-shadow: 0px 1px 3px 1px rgba(0, 0, 0, 0.15);\n",
              "      filter: drop-shadow(0px 1px 2px rgba(0, 0, 0, 0.3));\n",
              "      fill: #FFFFFF;\n",
              "    }\n",
              "  </style>\n",
              "\n",
              "    <script>\n",
              "      const buttonEl =\n",
              "        document.querySelector('#df-f73f5393-2368-4e90-989f-15d3bcd598c1 button.colab-df-convert');\n",
              "      buttonEl.style.display =\n",
              "        google.colab.kernel.accessAllowed ? 'block' : 'none';\n",
              "\n",
              "      async function convertToInteractive(key) {\n",
              "        const element = document.querySelector('#df-f73f5393-2368-4e90-989f-15d3bcd598c1');\n",
              "        const dataTable =\n",
              "          await google.colab.kernel.invokeFunction('convertToInteractive',\n",
              "                                                    [key], {});\n",
              "        if (!dataTable) return;\n",
              "\n",
              "        const docLinkHtml = 'Like what you see? Visit the ' +\n",
              "          '<a target=\"_blank\" href=https://colab.research.google.com/notebooks/data_table.ipynb>data table notebook</a>'\n",
              "          + ' to learn more about interactive tables.';\n",
              "        element.innerHTML = '';\n",
              "        dataTable['output_type'] = 'display_data';\n",
              "        await google.colab.output.renderOutput(dataTable, element);\n",
              "        const docLink = document.createElement('div');\n",
              "        docLink.innerHTML = docLinkHtml;\n",
              "        element.appendChild(docLink);\n",
              "      }\n",
              "    </script>\n",
              "  </div>\n",
              "\n",
              "\n",
              "<div id=\"df-d50b677a-43c9-4b63-92d8-97d963b1f557\">\n",
              "  <button class=\"colab-df-quickchart\" onclick=\"quickchart('df-d50b677a-43c9-4b63-92d8-97d963b1f557')\"\n",
              "            title=\"Suggest charts\"\n",
              "            style=\"display:none;\">\n",
              "\n",
              "<svg xmlns=\"http://www.w3.org/2000/svg\" height=\"24px\"viewBox=\"0 0 24 24\"\n",
              "     width=\"24px\">\n",
              "    <g>\n",
              "        <path d=\"M19 3H5c-1.1 0-2 .9-2 2v14c0 1.1.9 2 2 2h14c1.1 0 2-.9 2-2V5c0-1.1-.9-2-2-2zM9 17H7v-7h2v7zm4 0h-2V7h2v10zm4 0h-2v-4h2v4z\"/>\n",
              "    </g>\n",
              "</svg>\n",
              "  </button>\n",
              "\n",
              "<style>\n",
              "  .colab-df-quickchart {\n",
              "      --bg-color: #E8F0FE;\n",
              "      --fill-color: #1967D2;\n",
              "      --hover-bg-color: #E2EBFA;\n",
              "      --hover-fill-color: #174EA6;\n",
              "      --disabled-fill-color: #AAA;\n",
              "      --disabled-bg-color: #DDD;\n",
              "  }\n",
              "\n",
              "  [theme=dark] .colab-df-quickchart {\n",
              "      --bg-color: #3B4455;\n",
              "      --fill-color: #D2E3FC;\n",
              "      --hover-bg-color: #434B5C;\n",
              "      --hover-fill-color: #FFFFFF;\n",
              "      --disabled-bg-color: #3B4455;\n",
              "      --disabled-fill-color: #666;\n",
              "  }\n",
              "\n",
              "  .colab-df-quickchart {\n",
              "    background-color: var(--bg-color);\n",
              "    border: none;\n",
              "    border-radius: 50%;\n",
              "    cursor: pointer;\n",
              "    display: none;\n",
              "    fill: var(--fill-color);\n",
              "    height: 32px;\n",
              "    padding: 0;\n",
              "    width: 32px;\n",
              "  }\n",
              "\n",
              "  .colab-df-quickchart:hover {\n",
              "    background-color: var(--hover-bg-color);\n",
              "    box-shadow: 0 1px 2px rgba(60, 64, 67, 0.3), 0 1px 3px 1px rgba(60, 64, 67, 0.15);\n",
              "    fill: var(--button-hover-fill-color);\n",
              "  }\n",
              "\n",
              "  .colab-df-quickchart-complete:disabled,\n",
              "  .colab-df-quickchart-complete:disabled:hover {\n",
              "    background-color: var(--disabled-bg-color);\n",
              "    fill: var(--disabled-fill-color);\n",
              "    box-shadow: none;\n",
              "  }\n",
              "\n",
              "  .colab-df-spinner {\n",
              "    border: 2px solid var(--fill-color);\n",
              "    border-color: transparent;\n",
              "    border-bottom-color: var(--fill-color);\n",
              "    animation:\n",
              "      spin 1s steps(1) infinite;\n",
              "  }\n",
              "\n",
              "  @keyframes spin {\n",
              "    0% {\n",
              "      border-color: transparent;\n",
              "      border-bottom-color: var(--fill-color);\n",
              "      border-left-color: var(--fill-color);\n",
              "    }\n",
              "    20% {\n",
              "      border-color: transparent;\n",
              "      border-left-color: var(--fill-color);\n",
              "      border-top-color: var(--fill-color);\n",
              "    }\n",
              "    30% {\n",
              "      border-color: transparent;\n",
              "      border-left-color: var(--fill-color);\n",
              "      border-top-color: var(--fill-color);\n",
              "      border-right-color: var(--fill-color);\n",
              "    }\n",
              "    40% {\n",
              "      border-color: transparent;\n",
              "      border-right-color: var(--fill-color);\n",
              "      border-top-color: var(--fill-color);\n",
              "    }\n",
              "    60% {\n",
              "      border-color: transparent;\n",
              "      border-right-color: var(--fill-color);\n",
              "    }\n",
              "    80% {\n",
              "      border-color: transparent;\n",
              "      border-right-color: var(--fill-color);\n",
              "      border-bottom-color: var(--fill-color);\n",
              "    }\n",
              "    90% {\n",
              "      border-color: transparent;\n",
              "      border-bottom-color: var(--fill-color);\n",
              "    }\n",
              "  }\n",
              "</style>\n",
              "\n",
              "  <script>\n",
              "    async function quickchart(key) {\n",
              "      const quickchartButtonEl =\n",
              "        document.querySelector('#' + key + ' button');\n",
              "      quickchartButtonEl.disabled = true;  // To prevent multiple clicks.\n",
              "      quickchartButtonEl.classList.add('colab-df-spinner');\n",
              "      try {\n",
              "        const charts = await google.colab.kernel.invokeFunction(\n",
              "            'suggestCharts', [key], {});\n",
              "      } catch (error) {\n",
              "        console.error('Error during call to suggestCharts:', error);\n",
              "      }\n",
              "      quickchartButtonEl.classList.remove('colab-df-spinner');\n",
              "      quickchartButtonEl.classList.add('colab-df-quickchart-complete');\n",
              "    }\n",
              "    (() => {\n",
              "      let quickchartButtonEl =\n",
              "        document.querySelector('#df-d50b677a-43c9-4b63-92d8-97d963b1f557 button');\n",
              "      quickchartButtonEl.style.display =\n",
              "        google.colab.kernel.accessAllowed ? 'block' : 'none';\n",
              "    })();\n",
              "  </script>\n",
              "</div>\n",
              "\n",
              "    </div>\n",
              "  </div>\n"
            ],
            "text/plain": [
              "                                            messages sender_labels  \\\n",
              "0  Germany!\\n\\nJust the person I want to speak wi...          True   \n",
              "0  You've whet my appetite, Italy. What's the sug...          True   \n",
              "0                                                  👍          True   \n",
              "0  It seems like there are a lot of ways that cou...          True   \n",
              "0  Yeah, I can’t say I’ve tried it and it works, ...          True   \n",
              "\n",
              "  receiver_labels speakers receivers absolute_message_index  \\\n",
              "0            True    italy   germany                     74   \n",
              "0            True  germany     italy                     76   \n",
              "0            True    italy   germany                     86   \n",
              "0            True  germany     italy                     87   \n",
              "0    NOANNOTATION    italy   germany                     89   \n",
              "\n",
              "  relative_message_index seasons years game_score game_score_delta  \\\n",
              "0                      0  Spring  1901          3                0   \n",
              "0                      1  Spring  1901          3                0   \n",
              "0                      2  Spring  1901          3                0   \n",
              "0                      3  Spring  1901          3                0   \n",
              "0                      4  Spring  1901          3                0   \n",
              "\n",
              "            players  game_id  \n",
              "0  [italy, germany]        1  \n",
              "0  [italy, germany]        1  \n",
              "0  [italy, germany]        1  \n",
              "0  [italy, germany]        1  \n",
              "0  [italy, germany]        1  "
            ]
          },
          "execution_count": 105,
          "metadata": {},
          "output_type": "execute_result"
        }
      ],
      "source": [
        "\n",
        "# Leer el archivo JSONL\n",
        "file_path_train = 'train.jsonl'\n",
        "file_path_test = 'test.jsonl'\n",
        "file_path_val = 'validation.jsonl'\n",
        "data = []\n",
        "\n",
        "def read_jsonl(file_path):\n",
        "    with open(file_path, 'r') as file:\n",
        "        for line in file:\n",
        "            data.append(json.loads(line))\n",
        "    return data\n",
        "\n",
        "def explode_df(df):\n",
        "  return df.explode(['messages', 'sender_labels', 'receiver_labels', 'absolute_message_index',\n",
        "                          'relative_message_index', 'seasons', 'years', 'game_score', 'game_score_delta',\n",
        "                          'speakers', 'receivers']).reindex()\n",
        "\n",
        "\n",
        "# Convertir la lista de diccionarios en un DataFrame\n",
        "df_train = pd.DataFrame(read_jsonl(file_path_train))\n",
        "df_test = pd.DataFrame(read_jsonl(file_path_test))\n",
        "df_val = pd.DataFrame(read_jsonl(file_path_val))\n",
        "\n",
        "# Expandir las listas de mensajes, etiquetas y otros campos en filas individuales\n",
        "df_expanded_train =explode_df(df_train)\n",
        "df_expanded_test =explode_df(df_test)\n",
        "df_expanded_val =explode_df(df_val)\n",
        "\n",
        "# Mostrar las primeras filas del DataFrame expandido\n",
        "df_expanded_train.head()"
      ]
    },
    {
      "cell_type": "markdown",
      "metadata": {
        "id": "HUOj7hVRmpj0"
      },
      "source": [
        "### Análisis Descriptivo"
      ]
    },
    {
      "cell_type": "code",
      "execution_count": null,
      "metadata": {
        "colab": {
          "base_uri": "https://localhost:8080/"
        },
        "id": "HwGdkh3UUNTV",
        "outputId": "28200bd5-f0c2-459d-c2d6-ace0ba148c86"
      },
      "outputs": [
        {
          "name": "stdout",
          "output_type": "stream",
          "text": [
            "Total registros train: 13132\n",
            "Total registros test: 15873\n",
            "Total registros val: 17289\n"
          ]
        }
      ],
      "source": [
        "## contar numero de mensajes totales\n",
        "print(\"Total registros train: \" + str(df_expanded_train.count()[0]))\n",
        "print(\"Total registros test: \" + str(df_expanded_test.count()[0]))\n",
        "print(\"Total registros val: \" + str(df_expanded_val.count()[0]))"
      ]
    },
    {
      "cell_type": "code",
      "execution_count": null,
      "metadata": {
        "colab": {
          "base_uri": "https://localhost:8080/"
        },
        "id": "AQssomi0URej",
        "outputId": "bc9b0376-84df-49cc-b932-00aa609ac82d"
      },
      "outputs": [
        {
          "data": {
            "text/plain": [
              "game_id\n",
              "2     3302\n",
              "1     2619\n",
              "3     1915\n",
              "9     1611\n",
              "7     1003\n",
              "8      905\n",
              "10     832\n",
              "6      523\n",
              "5      427\n",
              "Name: count, dtype: int64"
            ]
          },
          "execution_count": 107,
          "metadata": {},
          "output_type": "execute_result"
        }
      ],
      "source": [
        "# Contar mensajes por juego\n",
        "messages_per_game = df_expanded_train['game_id'].value_counts()\n",
        "messages_per_game"
      ]
    },
    {
      "cell_type": "code",
      "execution_count": null,
      "metadata": {
        "colab": {
          "base_uri": "https://localhost:8080/"
        },
        "id": "O0zYRnDzUS0i",
        "outputId": "4a008c59-f371-45a0-abb9-d76f6a125860"
      },
      "outputs": [
        {
          "data": {
            "text/plain": [
              "speakers\n",
              "germany    2687\n",
              "italy      2493\n",
              "england    2304\n",
              "austria    1827\n",
              "russia     1317\n",
              "france     1279\n",
              "turkey     1225\n",
              "Name: count, dtype: int64"
            ]
          },
          "execution_count": 108,
          "metadata": {},
          "output_type": "execute_result"
        }
      ],
      "source": [
        "# Jugadores más activos\n",
        "active_speakers = df_expanded_train['speakers'].value_counts()\n",
        "active_speakers"
      ]
    },
    {
      "cell_type": "code",
      "execution_count": null,
      "metadata": {
        "colab": {
          "base_uri": "https://localhost:8080/"
        },
        "id": "3pefsPjqUUkr",
        "outputId": "56936c96-e85d-4a2f-d8d2-1f7a79f80d87"
      },
      "outputs": [
        {
          "data": {
            "text/plain": [
              "count    13137.000000\n",
              "mean         5.324199\n",
              "std          2.051748\n",
              "min          0.000000\n",
              "25%          4.000000\n",
              "50%          5.000000\n",
              "75%          6.000000\n",
              "max         17.000000\n",
              "Name: game_score, dtype: float64"
            ]
          },
          "execution_count": 109,
          "metadata": {},
          "output_type": "execute_result"
        }
      ],
      "source": [
        "# Distribución de las puntuaciones\n",
        "score_distribution = df_expanded_train['game_score'].fillna(0).astype(int).describe()\n",
        "score_distribution"
      ]
    },
    {
      "cell_type": "code",
      "execution_count": null,
      "metadata": {
        "colab": {
          "base_uri": "https://localhost:8080/"
        },
        "id": "jBCBivZgagCH",
        "outputId": "dbc3ceb1-fbc7-43ab-de19-68f4f12058b3"
      },
      "outputs": [
        {
          "data": {
            "text/plain": [
              "sender_labels\n",
              "True     12541\n",
              "False      591\n",
              "Name: count, dtype: int64"
            ]
          },
          "execution_count": 110,
          "metadata": {},
          "output_type": "execute_result"
        }
      ],
      "source": [
        "df_expanded_train['sender_labels'].value_counts()"
      ]
    },
    {
      "cell_type": "code",
      "execution_count": null,
      "metadata": {
        "colab": {
          "base_uri": "https://localhost:8080/"
        },
        "id": "RiZcYHzObWR7",
        "outputId": "9065b17e-03b0-4136-d020-2d2bb5f37efd"
      },
      "outputs": [
        {
          "name": "stdout",
          "output_type": "stream",
          "text": [
            "[True False nan]\n",
            "[True 'NOANNOTATION' False nan]\n"
          ]
        }
      ],
      "source": [
        "print(df_expanded_train['sender_labels'].unique())\n",
        "print(df_expanded_train['receiver_labels'].unique())"
      ]
    },
    {
      "cell_type": "code",
      "execution_count": null,
      "metadata": {
        "id": "tLBU6ISkbdfN"
      },
      "outputs": [],
      "source": [
        "df_expanded_train['sender_labels'].fillna('NOANNOTATION', inplace=True)\n",
        "df_expanded_train['receiver_labels'].fillna('NOANNOTATION', inplace=True)\n",
        "\n",
        "df_expanded_test['sender_labels'].fillna('NOANNOTATION', inplace=True)\n",
        "df_expanded_test['receiver_labels'].fillna('NOANNOTATION', inplace=True)\n",
        "\n",
        "df_expanded_val['sender_labels'].fillna('NOANNOTATION', inplace=True)\n",
        "df_expanded_val['receiver_labels'].fillna('NOANNOTATION', inplace=True)\n"
      ]
    },
    {
      "cell_type": "markdown",
      "metadata": {
        "id": "8OnoqqxBmv-r"
      },
      "source": [
        "### Visualización de las Etiquetas"
      ]
    },
    {
      "cell_type": "code",
      "execution_count": null,
      "metadata": {
        "colab": {
          "base_uri": "https://localhost:8080/",
          "height": 793
        },
        "id": "K-7sh9FgUWNj",
        "outputId": "28e1c4e8-d4a5-41a6-9630-dbc418bf24d3"
      },
      "outputs": [
        {
          "data": {
            "image/png": "[encoded data removed]",
            "text/plain": [
              "<Figure size 1000x1000 with 6 Axes>"
            ]
          },
          "metadata": {},
          "output_type": "display_data"
        }
      ],
      "source": [
        "\n",
        "# Create a figure and six subplots (axes)\n",
        "fig, axes = plt.subplots(3, 2, figsize=(10, 10))\n",
        "\n",
        "# Distribution of sender_labels train\n",
        "sns.countplot(x='sender_labels', data=df_expanded_train, ax=axes[0, 0])  # Access axes correctly\n",
        "axes[0, 0].set_title('Distribución de sender_labels Train')\n",
        "\n",
        "# Distribution of receiver_labels train\n",
        "sns.countplot(x='receiver_labels', data=df_expanded_train, ax=axes[0, 1])  # Access axes correctly\n",
        "axes[0, 1].set_title('Distribución de receiver_labels Train')\n",
        "\n",
        "# Distribution of sender_labels test\n",
        "sns.countplot(x='sender_labels', data=df_expanded_test, ax=axes[1, 0])  # Access axes correctly\n",
        "axes[1, 0].set_title('Distribución de sender_labels Test')\n",
        "\n",
        "# Distribution of receiver_labels test\n",
        "sns.countplot(x='receiver_labels', data=df_expanded_test, ax=axes[1, 1])  # Access axes correctly\n",
        "axes[1, 1].set_title('Distribución de receiver_labels Test')\n",
        "\n",
        "# Distribution of sender_labels validation\n",
        "sns.countplot(x='sender_labels', data=df_expanded_val, ax=axes[2, 0])  # Access axes correctly\n",
        "axes[2, 0].set_title('Distribución de sender_labels Validation')\n",
        "\n",
        "# Distribution of receiver_labels validation\n",
        "sns.countplot(x='receiver_labels', data=df_expanded_val, ax=axes[2, 1])  # Access axes correctly\n",
        "axes[2, 1].set_title('Distribución de receiver_labels Validation')\n",
        "\n",
        "# Adjust layout to prevent overlap\n",
        "plt.tight_layout()\n",
        "\n",
        "# Show the figure\n",
        "plt.show()"
      ]
    },
    {
      "cell_type": "markdown",
      "metadata": {
        "id": "DrSZoua5mu_h"
      },
      "source": [
        " **Pendiente** HACER NUBE DE PALABRAS DISCRIMINADO POR ETIQUETA TRUE Y FALSE, ES DECIR, CUALES SON LAS PALABRAS MAS DICHAS POR LOS RECEIVER TRUE, RECEIVER FALSE, SENDER TRUE Y SENDER FALSE"
      ]
    },
    {
      "cell_type": "markdown",
      "metadata": {
        "id": "mNHBlzzKm2lx"
      },
      "source": [
        "## Preprocesamiento y Preparación de Datos"
      ]
    },
    {
      "cell_type": "markdown",
      "metadata": {
        "id": "_LuTLsdZ2dFg"
      },
      "source": [
        "Tokenizar las palabras de todos los insumos (train, test y validation)"
      ]
    },
    {
      "cell_type": "code",
      "execution_count": null,
      "metadata": {
        "id": "I6k7PNSGUw0_"
      },
      "outputs": [],
      "source": [
        "\n",
        "# Inicializar el tokenizador de BERT\n",
        "#tokenizer = BertTokenizer.from_pretrained('bert-base-uncased')\n",
        "tokenizer_model = DistilBertTokenizer.from_pretrained('distilbert-base-uncased')\n",
        "\n",
        "def tokeneizer(df_expanded, tokenizer):\n",
        "\n",
        "  # Ensure all messages are strings before tokenization\n",
        "  df_expanded['messages'] = df_expanded['messages'].astype(str)\n",
        "  # Convertir las etiquetas a formato booleano (eliminar etiquetas noannotation, son despreciables)\n",
        "  #Se borran donde el sender sea 'NOANNOTATION', probar luego que hgacer con esa clase, hacerla -1 quizas\n",
        "  df_expanded = df_expanded[(df_expanded['sender_labels'] != 'NOANNOTATION')]\n",
        "  # Tokenizar los mensajes\n",
        "  encoded_inputs = tokenizer(df_expanded['messages'].tolist(), padding=True, truncation=True, return_tensors='pt')\n",
        "  labels = torch.tensor(df_expanded['sender_labels'].astype(int).tolist())\n",
        "  return TensorDataset(encoded_inputs['input_ids'], encoded_inputs['attention_mask'], labels)\n",
        "\n",
        "\n",
        "dataset_train = tokeneizer(df_expanded_train,tokenizer_model)\n",
        "dataset_test = tokeneizer(df_expanded_test,tokenizer_model)\n",
        "dataset_val = tokeneizer(df_expanded_val,tokenizer_model)"
      ]
    },
    {
      "cell_type": "markdown",
      "metadata": {
        "id": "kSqjyfyY2lXO"
      },
      "source": [
        "Geberar dataloader de cada uno de los insumos, train test y validation"
      ]
    },
    {
      "cell_type": "code",
      "execution_count": null,
      "metadata": {
        "id": "Xym3bKorcrys"
      },
      "outputs": [],
      "source": [
        "\n",
        "train_dataloader = DataLoader(dataset_train, batch_size=16, shuffle=True)\n",
        "test_dataloader = DataLoader(dataset_test, batch_size=16, shuffle=False)\n",
        "val_dataloader = DataLoader(dataset_val, batch_size=16, shuffle=False)\n"
      ]
    },
    {
      "cell_type": "markdown",
      "metadata": {
        "id": "aCrpKS2p2uQ_"
      },
      "source": [
        "### Train model"
      ]
    },
    {
      "cell_type": "code",
      "execution_count": null,
      "metadata": {
        "colab": {
          "base_uri": "https://localhost:8080/",
          "height": 608
        },
        "id": "IhjfGzmohlwv",
        "outputId": "499ec430-2e47-418f-959a-418b27afc238"
      },
      "outputs": [
        {
          "name": "stderr",
          "output_type": "stream",
          "text": [
            "Some weights of DistilBertForSequenceClassification were not initialized from the model checkpoint at distilbert-base-uncased and are newly initialized: ['classifier.bias', 'classifier.weight', 'pre_classifier.bias', 'pre_classifier.weight']\n",
            "You should probably TRAIN this model on a down-stream task to be able to use it for predictions and inference.\n",
            "/usr/local/lib/python3.10/dist-packages/transformers/optimization.py:591: FutureWarning: This implementation of AdamW is deprecated and will be removed in a future version. Use the PyTorch implementation torch.optim.AdamW instead, or set `no_deprecation_warning=True` to disable this warning\n",
            "  warnings.warn(\n"
          ]
        },
        {
          "name": "stdout",
          "output_type": "stream",
          "text": [
            "Epoch 1, Train Loss: 0.18537833329730288, Test Loss: 0.18998472784220993, Accuracy: 0.9476469476469477, F1 Score: 0.9731198447355652\n",
            "Epoch 2, Train Loss: 0.1692834418090049, Test Loss: 0.16957665738262317, Accuracy: 0.9476469476469477, F1 Score: 0.9731198447355652\n",
            "Epoch 3, Train Loss: 0.1224618671999634, Test Loss: 0.11863872315828414, Accuracy: 0.9681849681849681, F1 Score: 0.9833536605465273\n",
            "Epoch 4, Train Loss: 0.056905663963611464, Test Loss: 0.10603114047199337, Accuracy: 0.9749259749259749, F1 Score: 0.9868629522049116\n",
            "Early stopping at epoch 4\n"
          ]
        },
        {
          "data": {
            "image/png": "[encoded data removed]",
            "text/plain": [
              "<Figure size 1000x500 with 1 Axes>"
            ]
          },
          "metadata": {},
          "output_type": "display_data"
        }
      ],
      "source": [
        "# Mover el modelo a GPU si está disponible\n",
        "device = torch.device('cuda') if torch.cuda.is_available() else torch.device('cpu')\n",
        "model = DistilBertForSequenceClassification.from_pretrained('distilbert-base-uncased', num_labels=2)\n",
        "\n",
        "# Usar mixed precision training\n",
        "scaler = torch.cuda.amp.GradScaler()\n",
        "\n",
        "# Mover el modelo a la GPU después de la inicialización\n",
        "model.to(device)\n",
        "\n",
        "# Definir el optimizador\n",
        "optimizer = AdamW(model.parameters(), lr=3e-5)\n",
        "\n",
        "# Definir el scheduler para ajuste de la tasa de aprendizaje\n",
        "num_training_steps = len(train_dataloader) * 4  # Número de épocas * tamaño del dataloader\n",
        "scheduler = get_linear_schedule_with_warmup(optimizer, num_warmup_steps=0, num_training_steps=num_training_steps)\n",
        "\n",
        "# Función de entrenamiento\n",
        "def train(model, dataloader, optimizer, scheduler):\n",
        "    model.train()\n",
        "    total_loss = 0\n",
        "    for batch in dataloader:\n",
        "        input_ids, attention_mask, labels = [x.to(device) for x in batch]  # Mover los datos a GPU\n",
        "\n",
        "        optimizer.zero_grad()\n",
        "\n",
        "        with torch.cuda.amp.autocast():  # Usar autocast para mixed precision\n",
        "            outputs = model(input_ids, attention_mask=attention_mask, labels=labels)\n",
        "            loss = outputs.loss\n",
        "\n",
        "        scaler.scale(loss).backward()\n",
        "        scaler.step(optimizer)\n",
        "        scaler.update()\n",
        "        scheduler.step()\n",
        "\n",
        "        total_loss += loss.item()\n",
        "    return total_loss / len(dataloader)\n",
        "\n",
        "# Función de evaluación\n",
        "def evaluate(model, dataloader):\n",
        "    model.eval()\n",
        "    preds, true_labels = [], []\n",
        "    total_loss = 0\n",
        "    with torch.no_grad():\n",
        "        for batch in dataloader:\n",
        "            input_ids, attention_mask, labels = [x.to(device) for x in batch]  # Mover los datos a GPU\n",
        "\n",
        "            with torch.cuda.amp.autocast():  # Usar autocast para mixed precision\n",
        "                outputs = model(input_ids, attention_mask=attention_mask, labels=labels)\n",
        "                total_loss += outputs.loss.item()\n",
        "                preds.extend(torch.argmax(outputs.logits, dim=1).tolist())\n",
        "                true_labels.extend(labels.tolist())\n",
        "    accuracy = accuracy_score(true_labels, preds)\n",
        "    f1 = f1_score(true_labels, preds)\n",
        "    avg_loss = total_loss / len(dataloader)\n",
        "    return accuracy, f1, avg_loss\n",
        "\n",
        "# Entrenar el modelo y evaluar\n",
        "train_losses = []\n",
        "test_accuracies = []\n",
        "test_f1_scores = []\n",
        "test_losses = []\n",
        "\n",
        "best_diff = np.inf\n",
        "early_stop_patience = 2\n",
        "epochs_no_improve = 0\n",
        "\n",
        "\n",
        "for epoch in range(10):\n",
        "    train_loss = train(model, train_dataloader, optimizer, scheduler)\n",
        "    train_losses.append(train_loss)\n",
        "\n",
        "    accuracy, f1, test_loss = evaluate(model, test_dataloader)\n",
        "    test_accuracies.append(accuracy)\n",
        "    test_f1_scores.append(f1)\n",
        "    test_losses.append(test_loss)\n",
        "\n",
        "    print(f'Epoch {epoch+1}, Train Loss: {train_loss}, Test Loss: {test_loss}, Accuracy: {accuracy}, F1 Score: {f1}')\n",
        "\n",
        "    # Early stopping basado en la diferencia entre train loss y test loss\n",
        "    current_diff = abs(train_loss - test_loss)\n",
        "\n",
        "    if current_diff < best_diff:\n",
        "        best_diff = current_diff\n",
        "        epochs_no_improve = 0\n",
        "    else:\n",
        "        epochs_no_improve += 1\n",
        "        if epochs_no_improve == early_stop_patience:\n",
        "            print(f'Early stopping at epoch {epoch+1}')\n",
        "            break\n",
        "\n",
        "# Graficar las pérdidas\n",
        "plt.figure(figsize=(10, 5))\n",
        "plt.plot(train_losses, label='Train Loss')\n",
        "plt.plot(test_losses, label='Test Loss')\n",
        "plt.xlabel('Epoch')\n",
        "plt.ylabel('Loss')\n",
        "plt.legend()\n",
        "plt.show()"
      ]
    },
    {
      "cell_type": "markdown",
      "metadata": {
        "id": "cQT2G4Ky2wlY"
      },
      "source": [
        "### Test model"
      ]
    },
    {
      "cell_type": "code",
      "execution_count": null,
      "metadata": {
        "colab": {
          "base_uri": "https://localhost:8080/"
        },
        "id": "ftG2GKlBe8fJ",
        "outputId": "5434ebda-a012-4259-95f1-fb3aff62cf23"
      },
      "outputs": [
        {
          "name": "stdout",
          "output_type": "stream",
          "text": [
            "Accuracy: 0.9749259749259749, F1 Score: 0.9868629522049116\n"
          ]
        }
      ],
      "source": [
        "import torch\n",
        "from sklearn.metrics import accuracy_score, f1_score\n",
        "\n",
        "# Función de evaluación\n",
        "def evaluate(model, dataloader):\n",
        "    model.eval()\n",
        "    preds, true_labels = [], []\n",
        "    with torch.no_grad():\n",
        "        for batch in dataloader:\n",
        "            input_ids, attention_mask, labels = batch  # Unpack all three tensors\n",
        "            outputs = model(input_ids.to(device), attention_mask=attention_mask.to(device)) # Move inputs to device\n",
        "            preds.extend(torch.argmax(outputs.logits, dim=1).tolist())\n",
        "            true_labels.extend(labels.tolist())\n",
        "    return accuracy_score(true_labels, preds), f1_score(true_labels, preds)\n",
        "\n",
        "# Evaluar el modelo\n",
        "accuracy, f1 = evaluate(model, test_dataloader)\n",
        "print(f'Accuracy: {accuracy}, F1 Score: {f1}')"
      ]
    },
    {
      "cell_type": "markdown",
      "metadata": {
        "id": "WeWpFtEO2zpg"
      },
      "source": [
        "### Validate model"
      ]
    },
    {
      "cell_type": "code",
      "execution_count": null,
      "metadata": {
        "colab": {
          "base_uri": "https://localhost:8080/"
        },
        "id": "qwPMPlx90uoR",
        "outputId": "5e27c2eb-224b-43a7-ef69-940fff1602b4"
      },
      "outputs": [
        {
          "name": "stdout",
          "output_type": "stream",
          "text": [
            "Accuracy: 0.9724102030192608, F1 Score: 0.9855642647459372\n"
          ]
        }
      ],
      "source": [
        "# validar el modelo\n",
        "accuracy, f1 = evaluate(model, val_dataloader)\n",
        "print(f'Accuracy: {accuracy}, F1 Score: {f1}')"
      ]
    },
    {
      "cell_type": "code",
      "execution_count": null,
      "metadata": {
        "id": "TgF3D_Jv3CRE"
      },
      "outputs": [],
      "source": []
    }
  ],
  "metadata": {
    "accelerator": "GPU",
    "colab": {
      "gpuType": "L4",
      "machine_shape": "hm",
      "provenance": []
    },
    "kernelspec": {
      "display_name": "Python 3",
      "name": "python3"
    },
    "language_info": {
      "name": "python"
    }
  },
  "nbformat": 4,
  "nbformat_minor": 0
}
